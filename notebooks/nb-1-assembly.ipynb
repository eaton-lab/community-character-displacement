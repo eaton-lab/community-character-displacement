{
 "cells": [
  {
   "cell_type": "markdown",
   "metadata": {},
   "source": [
    "# NB1: assembly Pedicularis RAD data\n"
   ]
  },
  {
   "cell_type": "markdown",
   "metadata": {},
   "source": [
    "### Required software"
   ]
  },
  {
   "cell_type": "code",
   "execution_count": 1,
   "metadata": {},
   "outputs": [],
   "source": [
    "# conda install ipyrad -c ipyrad\n",
    "import ipyrad as ip\n"
   ]
  },
  {
   "cell_type": "markdown",
   "metadata": {},
   "source": [
    "### The demultiplexed data files. \n",
    "See notebook 0 to see demultiplexing strategy. We now have xxx files in three directories for the three libraries. "
   ]
  },
  {
   "cell_type": "code",
   "execution_count": 4,
   "metadata": {},
   "outputs": [
    {
     "name": "stdout",
     "output_type": "stream",
     "text": [
      "New Assembly: lib1\n"
     ]
    }
   ],
   "source": [
    "data1 = ip.Assembly(\"lib1\")\n",
    "data1.params.project_dir = \"../analysis-ipyrad\"\n",
    "data1.params.sorted_fastq_path = \"~/Documents/RADSEQ_DATA/demux_Pedicularis/demux1_fastqs/*.gz\"\n"
   ]
  },
  {
   "cell_type": "code",
   "execution_count": 5,
   "metadata": {},
   "outputs": [
    {
     "name": "stdout",
     "output_type": "stream",
     "text": [
      "New Assembly: lib2\n"
     ]
    }
   ],
   "source": [
    "data2 = ip.Assembly(\"lib2\")\n",
    "data2.params.project_dir = \"../analysis-ipyrad\"\n",
    "data2.params.sorted_fastq_path = \"~/Documents/RADSEQ_DATA/demux_Pedicularis/demux2_fastqs/*.gz\"\n"
   ]
  },
  {
   "cell_type": "code",
   "execution_count": 6,
   "metadata": {},
   "outputs": [
    {
     "name": "stdout",
     "output_type": "stream",
     "text": [
      "New Assembly: lib3\n"
     ]
    }
   ],
   "source": [
    "data3 = ip.Assembly(\"lib3\")\n",
    "data3.params.project_dir = \"../analysis-ipyrad\"\n",
    "data3.params.sorted_fastq_path = \"~/Documents/RADSEQ_DATA/demux_Pedicularis/demux3_fastqs/*.gz\"\n"
   ]
  },
  {
   "cell_type": "code",
   "execution_count": 13,
   "metadata": {},
   "outputs": [
    {
     "name": "stdout",
     "output_type": "stream",
     "text": [
      "Parallel connection | 0cba0d69e8d2: 40 cores\n",
      "[####################] 100% 0:00:00 | loading reads        | s1 |\n"
     ]
    }
   ],
   "source": [
    "#ll /home/deren/Documents/RADSEQ_DATA/demux_Pedicularis/demux1_fastqs/\n",
    "data1.run(\"1\", force=True, auto=True)"
   ]
  },
  {
   "cell_type": "code",
   "execution_count": 14,
   "metadata": {},
   "outputs": [
    {
     "name": "stdout",
     "output_type": "stream",
     "text": [
      "Parallel connection | 0cba0d69e8d2: 40 cores\n",
      "[####################] 100% 0:00:00 | loading reads        | s1 |\n",
      "Parallel connection | 0cba0d69e8d2: 40 cores\n",
      "[####################] 100% 0:00:00 | loading reads        | s1 |\n",
      "Parallel connection | 0cba0d69e8d2: 40 cores\n",
      "[####################] 100% 0:00:00 | loading reads        | s1 |\n"
     ]
    }
   ],
   "source": [
    "# load demux reads from each location into three separate assembly objects\n",
    "data1.run(\"1\", force=True, auto=True)\n",
    "data2.run(\"1\", force=True, auto=True)\n",
    "data3.run(\"1\", force=True, auto=True)"
   ]
  },
  {
   "cell_type": "markdown",
   "metadata": {},
   "source": [
    "### Subselecting samples for this study"
   ]
  },
  {
   "cell_type": "code",
   "execution_count": 18,
   "metadata": {},
   "outputs": [
    {
     "name": "stdout",
     "output_type": "stream",
     "text": [
      "loading Assembly: lib1\n",
      "from saved path: ~/Documents/community-character-displacement/analysis-ipyrad/lib1.json\n",
      "loading Assembly: lib2\n",
      "from saved path: ~/Documents/community-character-displacement/analysis-ipyrad/lib2.json\n",
      "loading Assembly: lib3\n",
      "from saved path: ~/Documents/community-character-displacement/analysis-ipyrad/lib3.json\n"
     ]
    }
   ],
   "source": [
    "# load each assembly object above now has a JSON record it could be re-loaded from\n",
    "data1 = ip.load_json(\"../analysis-ipyrad/lib1.json\")\n",
    "data2 = ip.load_json(\"../analysis-ipyrad/lib2.json\")\n",
    "data3 = ip.load_json(\"../analysis-ipyrad/lib3.json\")"
   ]
  },
  {
   "cell_type": "code",
   "execution_count": 19,
   "metadata": {},
   "outputs": [
    {
     "name": "stdout",
     "output_type": "stream",
     "text": [
      "New Assembly: alldata\n",
      "191 total samples\n"
     ]
    }
   ],
   "source": [
    "# combine all samples into one assembly named \"alldata\"\n",
    "alldata = ip.merge('alldata', [data1, data2, data3])\n",
    "\n",
    "# print N samples in merged assembly\n",
    "print(\"{} total samples\".format(len(alldata.samples)))"
   ]
  },
  {
   "cell_type": "code",
   "execution_count": 20,
   "metadata": {},
   "outputs": [
    {
     "name": "stdout",
     "output_type": "stream",
     "text": [
      "114 samples in subsampled cranolopha data set\n"
     ]
    }
   ],
   "source": [
    "# select out all cranolopha samples \n",
    "cranodata = [i for i in alldata.samples if 'cranolopha' in i]\n",
    "\n",
    "# select out four closest outgroups\n",
    "outgroups = [\"30106_fletcheri\", \"41112_elwesii\", \"39969_torta\", \"33286_cephalantha\"]\n",
    "\n",
    "# remove DE_8.2 cranolopha which has almost no data\n",
    "keep = [i for i in cranodata + outgroups if i != \"DE_8.2_cranolopha\"]\n",
    "\n",
    "# make a new branch\n",
    "subdata = alldata.branch(\"subdata\", subsamples=keep, force=True)\n",
    "\n",
    "# print N samples\n",
    "print(\"{} samples in subsampled cranolopha data set\".format(len(subdata.samples)))"
   ]
  },
  {
   "cell_type": "markdown",
   "metadata": {},
   "source": [
    "### Merge technical replicates\n",
    "In a preliminary analyses the technical replicates of population 12 all placed sister to each other as expected in phylogenetic analyses. Therefore we merge them together in this analyses so that each sample receives by two input fastq files. "
   ]
  },
  {
   "cell_type": "code",
   "execution_count": 21,
   "metadata": {},
   "outputs": [
    {
     "data": {
      "text/plain": [
       "['DE_12.2_replicate_cranolopha',\n",
       " 'DE_12.4_replicate_cranolopha',\n",
       " 'DE_12.5_replicate_cranolopha',\n",
       " 'DE_6.8_replicate_cranolopha',\n",
       " 'DE_12.3_replicate_cranolopha',\n",
       " 'DE_12.7_replicate_cranolopha',\n",
       " 'DE_12.6_replicate_cranolopha',\n",
       " 'DE_12.1_replicate_cranolopha']"
      ]
     },
     "execution_count": 21,
     "metadata": {},
     "output_type": "execute_result"
    }
   ],
   "source": [
    "# which ones have replicate?\n",
    "[i for i in subdata.samples if \"replicate\" in i]"
   ]
  },
  {
   "cell_type": "code",
   "execution_count": 22,
   "metadata": {},
   "outputs": [],
   "source": [
    "# make a dictionary for merging technical replicates {oldname: newname}\n",
    "mergedict = {\n",
    "    \"DE_12.1_replicate_cranolopha\": \"DE_12.1_cranolopha\",\n",
    "    \"DE_12.2_replicate_cranolopha\": \"DE_12.2_cranolopha\", \n",
    "    \"DE_12.3_replicate_cranolopha\": \"DE_12.3_cranolopha\", \n",
    "    \"DE_12.4_replicate_cranolopha\": \"DE_12.4_cranolopha\", \n",
    "    \"DE_12.5_replicate_cranolopha\": \"DE_12.5_cranolopha\", \n",
    "    \"DE_12.6_replicate_cranolopha\": \"DE_12.6_cranolopha\",\n",
    "    \"DE_12.7_replicate_cranolopha\": \"DE_12.7_cranolopha\",\n",
    "    \"DE_6.8_replicate_cranolopha\": \"DE_6.8_cranolopha\", \n",
    "}"
   ]
  },
  {
   "cell_type": "code",
   "execution_count": 23,
   "metadata": {},
   "outputs": [
    {
     "name": "stdout",
     "output_type": "stream",
     "text": [
      "New Assembly: cranos\n",
      "106 samples in subsampled and merged cranolopha data set\n"
     ]
    }
   ],
   "source": [
    "# reduce by merging technical replicates together\n",
    "cranos = ip.merge(\"cranos\", subdata, mergedict)\n",
    "\n",
    "# print N samples\n",
    "print(\"{} samples in subsampled and merged cranolopha data set\".format(len(cranos.samples)))"
   ]
  },
  {
   "cell_type": "markdown",
   "metadata": {},
   "source": [
    "## Data Assembly"
   ]
  },
  {
   "cell_type": "code",
   "execution_count": 40,
   "metadata": {},
   "outputs": [
    {
     "data": {
      "text/plain": [
       "0   assembly_name               cranos                                       \n",
       "1   project_dir                 ~/Documents/community-character-displacement/analysis-ipyrad\n",
       "2   raw_fastq_path              Merged: subdata                              \n",
       "3   barcodes_path               Merged: subdata                              \n",
       "4   sorted_fastq_path           Merged: subdata                              \n",
       "5   assembly_method             denovo                                       \n",
       "6   reference_sequence                                                       \n",
       "7   datatype                    rad                                          \n",
       "8   restriction_overhang        ('TGCAG', '')                                \n",
       "9   max_low_qual_bases          5                                            \n",
       "10  phred_Qscore_offset         43                                           \n",
       "11  mindepth_statistical        6                                            \n",
       "12  mindepth_majrule            6                                            \n",
       "13  maxdepth                    10000                                        \n",
       "14  clust_threshold             0.9                                          \n",
       "15  max_barcode_mismatch        0                                            \n",
       "16  filter_adapters             3                                            \n",
       "17  filter_min_trim_len         35                                           \n",
       "18  max_alleles_consens         2                                            \n",
       "19  max_Ns_consens              0.05                                         \n",
       "20  max_Hs_consens              0.05                                         \n",
       "21  min_samples_locus           4                                            \n",
       "22  max_SNPs_locus              0.2                                          \n",
       "23  max_Indels_locus            8                                            \n",
       "24  max_shared_Hs_locus         0.5                                          \n",
       "25  trim_reads                  (0, 0, 0, 0)                                 \n",
       "26  trim_loci                   (0, 0, 0, 0)                                 \n",
       "27  output_formats              ['p', 's', 'l', 'v', 'k']                    \n",
       "28  pop_assign_file                                                          "
      ]
     },
     "execution_count": 40,
     "metadata": {},
     "output_type": "execute_result"
    }
   ],
   "source": [
    "# set some initial parameters\n",
    "cranos.params.project_dir = \"../analysis-ipyrad\"\n",
    "cranos.params.filter_adapters = 3\n",
    "cranos.params.phred_Qscore_offset = 43                                           \n",
    "cranos.params.clust_threshold = 0.90\n",
    "cranos.params.output_formats = \"pslvk\"\n",
    "\n",
    "# save json to project dir\n",
    "cranos.save()\n",
    "\n",
    "# show parameters\n",
    "cranos.params"
   ]
  },
  {
   "cell_type": "markdown",
   "metadata": {},
   "source": [
    "### Assemble to full loci database"
   ]
  },
  {
   "cell_type": "code",
   "execution_count": 3,
   "metadata": {},
   "outputs": [
    {
     "name": "stdout",
     "output_type": "stream",
     "text": [
      "loading Assembly: cranos\n",
      "from saved path: ~/Documents/community-character-displacement/analysis-ipyrad/cranos.json\n"
     ]
    }
   ],
   "source": [
    "cranos = ip.load_json(\"../analysis-ipyrad/cranos.json\")"
   ]
  },
  {
   "cell_type": "code",
   "execution_count": null,
   "metadata": {},
   "outputs": [
    {
     "name": "stdout",
     "output_type": "stream",
     "text": [
      "Parallel connection | 0cba0d69e8d2: 40 cores\n",
      "[####################] 100% 0:00:24 | concatenating inputs | s2 |\n",
      "[####################] 100% 0:23:18 | processing reads     | s2 |\n",
      "[####################] 100% 0:00:05 | concatenating        | s3 |\n",
      "[####################] 100% 0:01:33 | dereplicating        | s3 |\n",
      "[                    ]   0% 0:11:12 | clustering/mapping   | s3 |"
     ]
    }
   ],
   "source": [
    "cranos.run(\"23456\", auto=True, force=True)"
   ]
  },
  {
   "cell_type": "markdown",
   "metadata": {},
   "source": [
    "### Filter to final data sets"
   ]
  },
  {
   "cell_type": "code",
   "execution_count": 3,
   "metadata": {},
   "outputs": [
    {
     "name": "stdout",
     "output_type": "stream",
     "text": [
      "Parallel connection | 0cba0d69e8d2: 40 cores\n",
      "[####################] 100% 0:00:50 | applying filters     | s7 |\n",
      "[####################] 100% 0:01:41 | building arrays      | s7 |\n",
      "[####################] 100% 0:00:24 | writing conversions  | s7 |\n",
      "[####################] 100% 0:01:32 | indexing vcf depths  | s7 |\n",
      "[####################] 100% 0:04:19 | writing vcf output   | s7 |\n"
     ]
    }
   ],
   "source": [
    "# this will be used for phylogenetic inference\n",
    "min50 = cranos.branch(\"cranos_min50\")\n",
    "min50.params.min_samples_locus = 50\n",
    "min50.run(\"7\", auto=True, force=True)"
   ]
  },
  {
   "cell_type": "code",
   "execution_count": 6,
   "metadata": {},
   "outputs": [
    {
     "name": "stdout",
     "output_type": "stream",
     "text": [
      "Parallel connection | 0cba0d69e8d2: 40 cores\n",
      "[####################] 100% 0:00:49 | applying filters     | s7 |\n",
      "[####################] 100% 0:00:42 | building arrays      | s7 |\n",
      "[####################] 100% 0:00:09 | writing conversions  | s7 |\n",
      "[####################] 100% 0:00:24 | indexing vcf depths  | s7 |\n",
      "[####################] 100% 0:01:34 | writing vcf output   | s7 |\n"
     ]
    }
   ],
   "source": [
    "# make a new branch\n",
    "pop4 = cranos.branch(\"cranos_pop4\")\n",
    "\n",
    "# set population minimums\n",
    "pop4.populations = {\n",
    "    \"out\": (1, [i for i in pop4.samples if \"crano\" not in i]),\n",
    "    \"p1\": (4, [i for i in pop4.samples if \"DE_1.\" in i]),\n",
    "    \"p4\": (4, [i for i in pop4.samples if \"DE_4.\" in i]),\n",
    "    \"p6\": (4, [i for i in pop4.samples if \"DE_6.\" in i]),\n",
    "    \"p8\": (4, [i for i in pop4.samples if \"DE_8.\" in i]),\n",
    "    \"p9\": (4, [i for i in pop4.samples if \"DE_9.\" in i]),\n",
    "    \"p10\": (4, [i for i in pop4.samples if \"DE_10.\" in i]),\n",
    "    \"p11\": (4, [i for i in pop4.samples if \"DE_11.\" in i]),\n",
    "    \"p12\": (4, [i for i in pop4.samples if \"DE_12.\" in i]),\n",
    "    \"p15\": (4, [i for i in pop4.samples if \"DE_15.\" in i]),\n",
    "    \"p18\": (4, [i for i in pop4.samples if \"DE_18.\" in i]),\n",
    "    \"p19\": (4, [i for i in pop4.samples if \"DE_19.\" in i]),\n",
    "    \"p22\": (4, [i for i in pop4.samples if \"DE_22.\" in i]),\n",
    "    \"p23\": (4, [i for i in pop4.samples if \"DE_23.\" in i]),\n",
    "    \"p24\": (4, [i for i in pop4.samples if \"DE_24.\" in i]),\n",
    "    \"p26\": (4, [i for i in pop4.samples if \"DE_26.\" in i]),\n",
    "}\n",
    "\n",
    "# run step 7 for population data\n",
    "pop4.run('7', force=True, auto=True)"
   ]
  },
  {
   "cell_type": "markdown",
   "metadata": {},
   "source": [
    "### A population min4 with with outgroups excluded"
   ]
  },
  {
   "cell_type": "code",
   "execution_count": 8,
   "metadata": {},
   "outputs": [
    {
     "name": "stdout",
     "output_type": "stream",
     "text": [
      "Parallel connection | 0cba0d69e8d2: 40 cores\n",
      "[####################] 100% 0:00:46 | applying filters     | s7 |\n",
      "[####################] 100% 0:00:47 | building arrays      | s7 |\n",
      "[####################] 100% 0:00:10 | writing conversions  | s7 |\n",
      "[####################] 100% 0:00:25 | indexing vcf depths  | s7 |\n",
      "[####################] 100% 0:01:39 | writing vcf output   | s7 |\n"
     ]
    }
   ],
   "source": [
    "# make a new branch\n",
    "keep = {}\n",
    "pop4no = cranos.branch(\"cranos_pop4_nout\", subsamples=keep)\n",
    "\n",
    "# set population minimums\n",
    "pop4no.populations = {\n",
    "    \"p1\": (4, [i for i in pop4no.samples if \"DE_1.\" in i]),\n",
    "    \"p4\": (4, [i for i in pop4no.samples if \"DE_4.\" in i]),\n",
    "    \"p6\": (4, [i for i in pop4no.samples if \"DE_6.\" in i]),\n",
    "    \"p8\": (4, [i for i in pop4no.samples if \"DE_8.\" in i]),\n",
    "    \"p9\": (4, [i for i in pop4no.samples if \"DE_9.\" in i]),\n",
    "    \"p10\": (4, [i for i in pop4no.samples if \"DE_10.\" in i]),\n",
    "    \"p11\": (4, [i for i in pop4no.samples if \"DE_11.\" in i]),\n",
    "    \"p12\": (4, [i for i in pop4no.samples if \"DE_12.\" in i]),\n",
    "    \"p15\": (4, [i for i in pop4no.samples if \"DE_15.\" in i]),\n",
    "    \"p18\": (4, [i for i in pop4no.samples if \"DE_18.\" in i]),\n",
    "    \"p19\": (4, [i for i in pop4no.samples if \"DE_19.\" in i]),\n",
    "    \"p22\": (4, [i for i in pop4no.samples if \"DE_22.\" in i]),\n",
    "    \"p23\": (4, [i for i in pop4no.samples if \"DE_23.\" in i]),\n",
    "    \"p24\": (4, [i for i in pop4no.samples if \"DE_24.\" in i]),\n",
    "    \"p26\": (4, [i for i in pop4no.samples if \"DE_26.\" in i]),\n",
    "}\n",
    "\n",
    "# run step 7 for population data\n",
    "pop4no.run('7', force=True, auto=True)"
   ]
  },
  {
   "cell_type": "markdown",
   "metadata": {},
   "source": [
    "### Link to final stats files hosted on GitHub\n",
    "\n",
    "+ [crano_min50](https://github.com/eaton-lab/community-character-displacement/blob/master/analysis-ipyrad/cranos_min50_outfiles/cranos_min50_stats.txt)\n",
    "+ [crano_pop4](https://github.com/eaton-lab/community-character-displacement/blob/master/analysis-ipyrad/cranos_pop4_outfiles/cranos_pop4_stats.txt)\n",
    "+ [crano_pop4_nout](https://github.com/eaton-lab/community-character-displacement/blob/master/analysis-ipyrad/cranos_pop4_nout_outfiles/cranos_pop4_nout_stats.txt)"
   ]
  }
 ],
 "metadata": {
  "kernelspec": {
   "display_name": "Python 3",
   "language": "python",
   "name": "python3"
  },
  "language_info": {
   "codemirror_mode": {
    "name": "ipython",
    "version": 3
   },
   "file_extension": ".py",
   "mimetype": "text/x-python",
   "name": "python",
   "nbconvert_exporter": "python",
   "pygments_lexer": "ipython3",
   "version": "3.7.1"
  }
 },
 "nbformat": 4,
 "nbformat_minor": 2
}
