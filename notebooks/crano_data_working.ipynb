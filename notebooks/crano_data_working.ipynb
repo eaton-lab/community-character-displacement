{
 "cells": [
  {
   "cell_type": "markdown",
   "metadata": {},
   "source": [
    "# _Pedicularis cranolopha_ Data Hack notebook\n",
    "----------------   \n"
   ]
  },
  {
   "cell_type": "markdown",
   "metadata": {},
   "source": [
    "### Notebook setup"
   ]
  },
  {
   "cell_type": "code",
   "execution_count": 1,
   "metadata": {
    "collapsed": true
   },
   "outputs": [],
   "source": [
    "## import Python modules\n",
    "import numpy as np\n",
    "import pymc as pm\n",
    "import pandas as pd\n",
    "from numpy import linalg as LA\n",
    "\n",
    "## import plotting packages\n",
    "import seaborn as sns\n",
    "import matplotlib.pyplot as plt\n",
    "%matplotlib inline"
   ]
  },
  {
   "cell_type": "code",
   "execution_count": 3,
   "metadata": {
    "collapsed": false
   },
   "outputs": [
    {
     "data": {
      "image/png": "[encoded data removed]",
      "text/plain": [
       "<matplotlib.figure.Figure at 0x7f0752660ed0>"
      ]
     },
     "metadata": {},
     "output_type": "display_data"
    }
   ],
   "source": [
    "cranomig = np.array(\n",
    "[[0.90, 0.00, 0.00, 0.00, 0.00, 0.00, 0.00, 0.00, 0.00, 0.00, 0.00, 0.00, 0.00, 0.05, 0.05],\n",
    " [0.00, 0.80, 0.10, 0.05, 0.00, 0.00, 0.00, 0.00, 0.00, 0.00, 0.00, 0.00, 0.00, 0.00, 0.05],\n",
    " [0.00, 0.15, 0.70, 0.15, 0.00, 0.00, 0.00, 0.00, 0.00, 0.00, 0.00, 0.00, 0.00, 0.00, 0.00],\n",
    " [0.00, 0.10, 0.10, 0.70, 0.10, 0.00, 0.00, 0.00, 0.00, 0.00, 0.00, 0.00, 0.00, 0.00, 0.00],\n",
    " [0.00, 0.00, 0.00, 0.12, 0.80, 0.08, 0.00, 0.00, 0.00, 0.00, 0.00, 0.00, 0.00, 0.00, 0.00],\n",
    " [0.00, 0.00, 0.00, 0.00, 0.10, 0.80, 0.10, 0.00, 0.00, 0.00, 0.00, 0.00, 0.00, 0.00, 0.00],\n",
    " [0.00, 0.00, 0.00, 0.00, 0.00, 0.10, 0.85, 0.05, 0.00, 0.00, 0.00, 0.00, 0.00, 0.00, 0.00],\n",
    " [0.00, 0.00, 0.00, 0.00, 0.00, 0.00, 0.15, 0.75, 0.10, 0.00, 0.00, 0.00, 0.00, 0.00, 0.00],\n",
    " [0.00, 0.00, 0.00, 0.00, 0.00, 0.00, 0.00, 0.10, 0.90, 0.00, 0.00, 0.00, 0.00, 0.00, 0.00],\n",
    " [0.00, 0.00, 0.00, 0.00, 0.00, 0.00, 0.00, 0.00, 0.00, 0.80, 0.20, 0.00, 0.00, 0.00, 0.00],\n",
    " [0.00, 0.00, 0.00, 0.00, 0.00, 0.00, 0.00, 0.00, 0.00, 0.20, 0.60, 0.20, 0.00, 0.00, 0.00],\n",
    " [0.00, 0.00, 0.00, 0.00, 0.00, 0.00, 0.00, 0.00, 0.00, 0.20, 0.60, 0.20, 0.00, 0.00, 0.00],\n",
    " [0.00, 0.00, 0.00, 0.00, 0.00, 0.00, 0.00, 0.00, 0.00, 0.00, 0.20, 0.80, 0.00, 0.00, 0.00],\n",
    " [0.00, 0.00, 0.00, 0.00, 0.00, 0.00, 0.00, 0.00, 0.10, 0.00, 0.00, 0.00, 0.80, 0.10, 0.00],\n",
    " [0.00, 0.04, 0.00, 0.00, 0.00, 0.00, 0.00, 0.00, 0.00, 0.00, 0.00, 0.00, 0.00, 0.08, 0.88]])\n",
    "\n",
    "#for i in cranomig:\n",
    "#    print i.sum()\n",
    "    \n",
    "### matrix of cranolopha migration matrix\n",
    "#f, axes = plt.subplot(1,3,figsize=(12,4))\n",
    "colors = sns.blend_palette([\"#262626\", \"#5499ff\"], as_cmap=True)\n",
    "\n",
    "#plt.grid('off')\n",
    "plt.matshow(np.sqrt(cranomig),cmap=colors)#, grid='off')\n",
    "plt.grid('off')\n",
    "\n",
    "plt.savefig(\"cranoEVOmigmat.svg\")"
   ]
  },
  {
   "cell_type": "markdown",
   "metadata": {},
   "source": [
    "## Community data"
   ]
  },
  {
   "cell_type": "code",
   "execution_count": 35,
   "metadata": {
    "collapsed": false
   },
   "outputs": [],
   "source": [
    "## read in communities for populations\n",
    "comms = open(\"/home/deren/Documents/DataHack/sympatry_crano.txt\").readlines()\n",
    "comms = [i.split()[1:] for i in comms]"
   ]
  },
  {
   "cell_type": "code",
   "execution_count": 36,
   "metadata": {
    "collapsed": false,
    "scrolled": false
   },
   "outputs": [
    {
     "name": "stdout",
     "output_type": "stream",
     "text": [
      "1 ['confertiflora', 'dichotoma', 'densispica', 'rex']\n",
      "2 ['densispica', 'integrifolia', 'kansuensis']\n",
      "3 ['kansuensis']\n",
      "4 ['rex', 'verticillata']\n",
      "5 ['rhinanthoides', 'rex', 'kansuensis']\n",
      "6 ['rhinanthoides', 'integrifolia', 'polyodonta', 'kansuensis', 'densispica']\n",
      "7 ['longiflora', 'densispica', 'rhinanthoides', 'polyodonta', 'kansuensis']\n",
      "8 ['longiflora', 'densispica', 'rhinanthoides', 'kansuensis']\n",
      "9 ['rhinanthoides', 'szetschuanica']\n",
      "10 ['pseudomelampyriflora', 'kansuensis', 'lachnoglossa']\n",
      "11 ['alaschanica', 'kansuensis']\n",
      "12 ['oliveriana', 'alaschanica', 'longiflora', 'batangensis', 'kansuensis', 'polyodonta']\n",
      "13 ['alaschanica', 'kansuensis', 'integrifolia']\n",
      "14 ['longiflora', 'rhinanthoides', 'kansuensis', 'anas', 'szetschuanica']\n",
      "15 ['rhinanthoides', 'longiflora', 'densispica', 'anas', 'kansuensis']\n",
      "16 ['kansuensis', 'anas', 'pseudoingens', 'longiflora']\n",
      "17 ['polyodonta', 'szetschuanica', 'cheilanthifolia']\n",
      "18 ['longiflora', 'rhinanthoides', 'cheilanthifolia', 'szetschuanica', 'polyodonta']\n",
      "19 ['kansuensis', 'brevilabris', 'longiflora', 'pectinatiformis']\n",
      "20 ['cheilanthifolia']\n",
      "21 ['pseudomelampyriflora', 'scolopax']\n",
      "22 ['longiflora', 'siphonantha', 'lachnoglossa', 'rhinanthoides', 'anas', 'polyodonta', 'elwesii']\n",
      "23 ['densispica']\n",
      "24 ['rex', 'longiflora', 'siphonantha', 'kansuensis']\n",
      "25 ['integrifolia', 'anas', 'kansuensis']\n",
      "26 ['densispica', 'lachnoglossa', 'siphonantha', 'integrifolia']\n"
     ]
    }
   ],
   "source": [
    "for i,j in enumerate(comms):\n",
    "    print i+1,j"
   ]
  },
  {
   "cell_type": "code",
   "execution_count": 56,
   "metadata": {
    "collapsed": false,
    "scrolled": true
   },
   "outputs": [
    {
     "data": {
      "text/plain": [
       "<matplotlib.collections.PathCollection at 0x7f074c515e10>"
      ]
     },
     "execution_count": 56,
     "metadata": {},
     "output_type": "execute_result"
    },
    {
     "data": {
      "image/png": "[encoded data removed]",
      "text/plain": [
       "<matplotlib.figure.Figure at 0x7f074c593290>"
      ]
     },
     "metadata": {},
     "output_type": "display_data"
    }
   ],
   "source": [
    "import ete2\n",
    "\n",
    "## read in a tree to measure phylo distances \n",
    "tre = open(\"/home/deren/Documents/DataHack/pedicularis.ucln.trees\").readlines()[0]\n",
    "#tree = egg.Tree(string=tre.strip())\n",
    "tree = ete2.Tree(tre)\n",
    "\n",
    "## focal species node\n",
    "crano = tree.get_leaves_by_name(\"cranolopha\")[0]\n",
    "\n",
    "## save distance measures\n",
    "nn_phylo_dist = []\n",
    "av_phylo_dist = []\n",
    "for comm in comms:\n",
    "    if \"pseudoingens\" in comm:\n",
    "        comm.remove(\"pseudoingens\")\n",
    "        comm.append(\"ingens\")\n",
    "    \n",
    "    dists = [tree.get_distance(crano,tree.get_leaves_by_name(x)[0]) for x in comm]\n",
    "    nn_phylo_dist.append(min(dists))\n",
    "    av_phylo_dist.append(np.mean(dists))\n",
    "    \n",
    "#print nn_phylo_dist\n",
    "#print av_phylo_dist\n",
    "plt.scatter(nn_phylo_dist,av_phylo_dist)"
   ]
  },
  {
   "cell_type": "code",
   "execution_count": 62,
   "metadata": {
    "collapsed": true
   },
   "outputs": [],
   "source": [
    "cranot = pd.read_csv(\"/home/deren/Documents/DataHack/comm_data.csv\", index_col=0)"
   ]
  },
  {
   "cell_type": "code",
   "execution_count": 80,
   "metadata": {
    "collapsed": false
   },
   "outputs": [
    {
     "name": "stdout",
     "output_type": "stream",
     "text": [
      "[42.62, 60.38, 69.52, 33.67, 27.87, 50.75, 41.0, 41.92, 40.81, 45.75, 60.41, 42.83, 51.3, 58.27, 44.77, 62.88, 74.32, 50.45, 44.26, 53.15, 33.94, 33.3, 42.76, 25.2, 54.41, 52.46]\n",
      "[36.74, 43.04, 69.52, 26.17, 15.37, 35.15, 5.1, 9.54, 28.06, 40.41, 53.41, 8.16, 39.96, 22.37, 8.27, 25.63, 72.99, 15.45, 10.89, 53.15, 29.94, 0.72, 42.76, 1.36, 37.41, 17.21]\n"
     ]
    },
    {
     "data": {
      "text/plain": [
       "<matplotlib.collections.PathCollection at 0x7f074c13cd90>"
      ]
     },
     "execution_count": 80,
     "metadata": {},
     "output_type": "execute_result"
    },
    {
     "data": {
      "image/png": "[encoded data removed]",
      "text/plain": [
       "<matplotlib.figure.Figure at 0x7f074cddad10>"
      ]
     },
     "metadata": {},
     "output_type": "display_data"
    }
   ],
   "source": [
    "## read in species traits to create phenotypic distances\n",
    "sptrait = pd.read_table(\"/home/deren/Documents/DataHack/sp_traits.txt\", index_col=0)\n",
    "\n",
    "## save distance measures\n",
    "av_tube_dist = []\n",
    "av_style_dist = []\n",
    "nn_tube_dist = []\n",
    "nn_style_dist = []\n",
    "max_style_dist = []\n",
    "\n",
    "for num,comm in enumerate(comms):\n",
    "    if \"pseudoingens\" in comm:\n",
    "        comm.remove(\"pseudoingens\")\n",
    "        comm.append(\"ingens\")\n",
    "    tubes = [abs(sptrait.meantube[i]-cranot.tube_length[num]) for i in comm]\n",
    "    av_tube_dist.append(np.mean(tubes))\n",
    "    nn_tube_dist.append(min(tubes))\n",
    "    styles = [abs((sptrait.meanbeak[i]+sptrait.meantube[i])-\\\n",
    "                  (cranot.beak_length[num]+cranot.tube_length[num])) for i in comm]\n",
    "    av_style_dist.append(np.mean(styles))\n",
    "    nn_style_dist.append(min(styles))   \n",
    "    max_style_dist.append(max([sptrait.meanbeak[i]+sptrait.meantube[i] \\\n",
    "                              for i in comm]))\n",
    "\n",
    "print [round(i,2) for i in av_style_dist]\n",
    "print [round(i,2) for i in nn_style_dist]\n",
    "plt.scatter(av_style_dist,nn_style_dist)"
   ]
  },
  {
   "cell_type": "code",
   "execution_count": 82,
   "metadata": {
    "collapsed": false
   },
   "outputs": [],
   "source": [
    "traitsdat = pd.DataFrame([max_style_dist,av_style_dist,nn_style_dist]).T\n",
    "traitsdat.columns = [\"comm.maxstyle\",\"comm.avstyledist\",\"comm.nnstyledist\"]\n",
    "traitsdat.to_csv(\"/home/deren/Documents/DataHack/traitscalccomm.csv\",\n",
    "                float_format=\"%.4f\")"
   ]
  },
  {
   "cell_type": "code",
   "execution_count": null,
   "metadata": {
    "collapsed": true
   },
   "outputs": [],
   "source": []
  }
 ],
 "metadata": {
  "kernelspec": {
   "display_name": "Python 2",
   "language": "python",
   "name": "python2"
  },
  "language_info": {
   "codemirror_mode": {
    "name": "ipython",
    "version": 2
   },
   "file_extension": ".py",
   "mimetype": "text/x-python",
   "name": "python",
   "nbconvert_exporter": "python",
   "pygments_lexer": "ipython2",
   "version": "2.7.6"
  }
 },
 "nbformat": 4,
 "nbformat_minor": 0
}
